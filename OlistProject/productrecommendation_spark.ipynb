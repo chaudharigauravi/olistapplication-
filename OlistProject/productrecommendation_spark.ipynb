{
 "cells": [
  {
   "cell_type": "code",
   "execution_count": 56,
   "metadata": {},
   "outputs": [],
   "source": [
    "import pandas as pd\n",
    "\n",
    "Order_Products_Prior_DF = pd.read_csv('priororder.csv')\n",
    "ordersDF = pd.read_csv('orders.csv')\n",
    "productsDF = pd.read_csv('products.csv')"
   ]
  },
  {
   "cell_type": "code",
   "execution_count": 57,
   "metadata": {},
   "outputs": [
    {
     "data": {
      "text/plain": [
       "'furniture_mattress_and_upholstery'"
      ]
     },
     "execution_count": 57,
     "metadata": {},
     "output_type": "execute_result"
    }
   ],
   "source": [
    "\n",
    "# orders in prior merged with product names\n",
    "Order_Product_Name_Prior = pd.merge(Order_Products_Prior_DF, \n",
    "                                    productsDF, how='left', on='product_id')\n",
    "# Prior orders with user_id, product_id, product_name\n",
    "Prior_User_Order_Product = pd.merge(Order_Product_Name_Prior, \n",
    "                                    ordersDF, how='left', on='order_id')\n",
    "\n",
    "Prior_User_Order_Product['product_name'][0]"
   ]
  },
  {
   "cell_type": "code",
   "execution_count": 58,
   "metadata": {},
   "outputs": [],
   "source": [
    "products = Prior_User_Order_Product['product_name']\n",
    "product_no_space = []\n",
    "for product in products:\n",
    "    product = product.replace(\" \", \"_\")\n",
    "    product_no_space.append(product)\n",
    "\n",
    "# drop original column, replace it with one with no space\n",
    "Prior_User_Order_Product.drop(['product_name'], axis=1)\n",
    "Prior_User_Order_Product['product_name'] = product_no_space"
   ]
  },
  {
   "cell_type": "code",
   "execution_count": 59,
   "metadata": {},
   "outputs": [],
   "source": [
    "# add product name to each user\n",
    "name_list = []\n",
    "for p_name in Prior_User_Order_Product.groupby('order_id')['product_name']:\n",
    "    name_list.append(' '.join(p_name[1]))\n",
    "    \n",
    "order_id = Prior_User_Order_Product.groupby('order_id')['product_name'].agg('count').index\n",
    "order_products = pd.DataFrame({'order_id':order_id, 'products':name_list})"
   ]
  },
  {
   "cell_type": "code",
   "execution_count": 60,
   "metadata": {},
   "outputs": [
    {
     "data": {
      "text/html": [
       "<div>\n",
       "<style scoped>\n",
       "    .dataframe tbody tr th:only-of-type {\n",
       "        vertical-align: middle;\n",
       "    }\n",
       "\n",
       "    .dataframe tbody tr th {\n",
       "        vertical-align: top;\n",
       "    }\n",
       "\n",
       "    .dataframe thead th {\n",
       "        text-align: right;\n",
       "    }\n",
       "</style>\n",
       "<table border=\"1\" class=\"dataframe\">\n",
       "  <thead>\n",
       "    <tr style=\"text-align: right;\">\n",
       "      <th></th>\n",
       "      <th>order_id</th>\n",
       "      <th>products</th>\n",
       "    </tr>\n",
       "  </thead>\n",
       "  <tbody>\n",
       "    <tr>\n",
       "      <th>0</th>\n",
       "      <td>2</td>\n",
       "      <td>furniture_mattress_and_upholstery furniture_de...</td>\n",
       "    </tr>\n",
       "    <tr>\n",
       "      <th>1</th>\n",
       "      <td>3</td>\n",
       "      <td>furniture_decor home_comfort small_appliances ...</td>\n",
       "    </tr>\n",
       "    <tr>\n",
       "      <th>2</th>\n",
       "      <td>4</td>\n",
       "      <td>furniture_decor home_comfort home_comfort home...</td>\n",
       "    </tr>\n",
       "    <tr>\n",
       "      <th>3</th>\n",
       "      <td>5</td>\n",
       "      <td>fashion_shoes fashion_beach fashion_bags_acess...</td>\n",
       "    </tr>\n",
       "    <tr>\n",
       "      <th>4</th>\n",
       "      <td>6</td>\n",
       "      <td>electronics computers_acessories computers</td>\n",
       "    </tr>\n",
       "  </tbody>\n",
       "</table>\n",
       "</div>"
      ],
      "text/plain": [
       "   order_id                                           products\n",
       "0         2  furniture_mattress_and_upholstery furniture_de...\n",
       "1         3  furniture_decor home_comfort small_appliances ...\n",
       "2         4  furniture_decor home_comfort home_comfort home...\n",
       "3         5  fashion_shoes fashion_beach fashion_bags_acess...\n",
       "4         6         electronics computers_acessories computers"
      ]
     },
     "execution_count": 60,
     "metadata": {},
     "output_type": "execute_result"
    }
   ],
   "source": [
    "order_products.head()\n"
   ]
  },
  {
   "cell_type": "code",
   "execution_count": 61,
   "metadata": {},
   "outputs": [
    {
     "data": {
      "text/html": [
       "<div>\n",
       "<style scoped>\n",
       "    .dataframe tbody tr th:only-of-type {\n",
       "        vertical-align: middle;\n",
       "    }\n",
       "\n",
       "    .dataframe tbody tr th {\n",
       "        vertical-align: top;\n",
       "    }\n",
       "\n",
       "    .dataframe thead th {\n",
       "        text-align: right;\n",
       "    }\n",
       "</style>\n",
       "<table border=\"1\" class=\"dataframe\">\n",
       "  <thead>\n",
       "    <tr style=\"text-align: right;\">\n",
       "      <th></th>\n",
       "      <th>order_id</th>\n",
       "      <th>products</th>\n",
       "    </tr>\n",
       "  </thead>\n",
       "  <tbody>\n",
       "    <tr>\n",
       "      <th>281</th>\n",
       "      <td>296</td>\n",
       "      <td>fashion_shoes fashion_bags_acessories fashion_...</td>\n",
       "    </tr>\n",
       "    <tr>\n",
       "      <th>282</th>\n",
       "      <td>297</td>\n",
       "      <td>fashion_sport fashion_bags_acessories fashion_...</td>\n",
       "    </tr>\n",
       "    <tr>\n",
       "      <th>283</th>\n",
       "      <td>298</td>\n",
       "      <td>construction_tools home_construction construct...</td>\n",
       "    </tr>\n",
       "    <tr>\n",
       "      <th>284</th>\n",
       "      <td>299</td>\n",
       "      <td>garden_tools construction_tools_lights constru...</td>\n",
       "    </tr>\n",
       "    <tr>\n",
       "      <th>285</th>\n",
       "      <td>300</td>\n",
       "      <td>pet_shop signalling_and_security security_and_...</td>\n",
       "    </tr>\n",
       "  </tbody>\n",
       "</table>\n",
       "</div>"
      ],
      "text/plain": [
       "     order_id                                           products\n",
       "281       296  fashion_shoes fashion_bags_acessories fashion_...\n",
       "282       297  fashion_sport fashion_bags_acessories fashion_...\n",
       "283       298  construction_tools home_construction construct...\n",
       "284       299  garden_tools construction_tools_lights constru...\n",
       "285       300  pet_shop signalling_and_security security_and_..."
      ]
     },
     "execution_count": 61,
     "metadata": {},
     "output_type": "execute_result"
    }
   ],
   "source": [
    "order_products.tail()\n"
   ]
  },
  {
   "cell_type": "code",
   "execution_count": 62,
   "metadata": {},
   "outputs": [],
   "source": [
    "dataFrameList = []\n",
    "index = 0\n",
    "for row in order_products['products']:\n",
    "    productsName = row.split(' ')\n",
    "    tup = (index, productsName)\n",
    "    dataFrameList.append(tup)\n",
    "    index += 1"
   ]
  },
  {
   "cell_type": "code",
   "execution_count": 63,
   "metadata": {},
   "outputs": [],
   "source": [
    "# randomly split data into train (70%) and test (30%)\n",
    "import random\n",
    "import numpy\n",
    "random.shuffle(dataFrameList)\n",
    "\n",
    "train_data = dataFrameList[:400]\n",
    "test_data = dataFrameList[400:]"
   ]
  },
  {
   "cell_type": "code",
   "execution_count": 64,
   "metadata": {},
   "outputs": [],
   "source": [
    "from pyspark.sql import SparkSession\n",
    "from pyspark.ml.feature import Word2Vec\n",
    "\n",
    "spark = SparkSession.builder.appName(\"Bigram\").getOrCreate()\n",
    "\n",
    "# spark dataframe： read in batch of 10000 due to large computation\n",
    "N = len(train_data)//10000\n",
    "mod = len(train_data) % 10000\n",
    "trainDF = spark.createDataFrame(dataFrameList[0:10000], ['id',\"product_name\"])\n",
    "\n",
    "for i in range(1,N):\n",
    "    trainDF_sub = spark.createDataFrame(train_data[10000*i:10000*(i+1)], ['id',\"product_name\"])\n",
    "    traintDF = trainDF.union(trainDF_sub)\n",
    "    \n",
    "trainDF_sub = spark.createDataFrame(train_data[10000*N:len(train_data)], ['id',\"product_name\"])\n",
    "trainDF = trainDF.union(trainDF_sub)"
   ]
  },
  {
   "cell_type": "code",
   "execution_count": 65,
   "metadata": {},
   "outputs": [
    {
     "data": {
      "text/plain": [
       "Row(id=225, product_name=['arts_and_craftmanship', 'cool_stuff', 'art', 'cool_stuff', 'photo_frame', 'art', 'baby', 'toys', 'diaper_and_hygiene', 'diaper_and_hygiene', 'diaper_and_hygiene', 'baby', 'baby', 'baby', 'diaper_and_hygiene', 'diaper_and_hygiene', 'baby', 'baby'], bigrams=['arts_and_craftmanship cool_stuff', 'cool_stuff art', 'art cool_stuff', 'cool_stuff photo_frame', 'photo_frame art', 'art baby', 'baby toys', 'toys diaper_and_hygiene', 'diaper_and_hygiene diaper_and_hygiene', 'diaper_and_hygiene diaper_and_hygiene', 'diaper_and_hygiene baby', 'baby baby', 'baby baby', 'baby diaper_and_hygiene', 'diaper_and_hygiene diaper_and_hygiene', 'diaper_and_hygiene baby', 'baby baby'])"
      ]
     },
     "execution_count": 65,
     "metadata": {},
     "output_type": "execute_result"
    }
   ],
   "source": [
    "from pyspark.ml.feature import NGram\n",
    "ngram = NGram(n=2, inputCol=\"product_name\", outputCol=\"bigrams\")\n",
    "ngramDataFrame = ngram.transform(trainDF)\n",
    "ngramDataFrame.head()"
   ]
  },
  {
   "cell_type": "code",
   "execution_count": 66,
   "metadata": {},
   "outputs": [],
   "source": [
    "bigrams = ngramDataFrame.toPandas()['bigrams']\n",
    "table = {}\n",
    "total = len(bigrams)\n",
    "completion = 0\n",
    "for bigram in bigrams:\n",
    "    for combination in bigram:\n",
    "        components = combination.split(' ')\n",
    "        key = components[0]\n",
    "        valKey = components[1]\n",
    "        if key in table:\n",
    "            valueDict = table[key]\n",
    "            if valKey in valueDict:\n",
    "                valueDict[valKey] = valueDict[valKey] + 1\n",
    "            else:\n",
    "                valueDict[valKey] = 1\n",
    "        else:\n",
    "            # create new value for key\n",
    "            valueDict =  {valKey: 1}\n",
    "            table[key] = valueDict\n",
    "    completion += 1"
   ]
  },
  {
   "cell_type": "code",
   "execution_count": 67,
   "metadata": {},
   "outputs": [
    {
     "name": "stdout",
     "output_type": "stream",
     "text": [
      "baby  +  toys :  38\n",
      "baby  +  baby :  40\n",
      "baby  +  diaper_and_hygiene :  46\n",
      "toys  +  diaper_and_hygiene :  40\n",
      "toys  +  baby :  34\n",
      "toys  +  toys :  38\n",
      "diaper_and_hygiene  +  diaper_and_hygiene :  54\n",
      "diaper_and_hygiene  +  baby :  44\n",
      "diaper_and_hygiene  +  toys :  44\n",
      "electronics  +  electronics :  22\n",
      "fashion_shoes  +  fashion_bags_acessories :  22\n",
      "construction_tools_safety  +  construction_tools_lights :  28\n",
      "christmas_supplies  +  drinks :  22\n",
      "party_supplies  +  party_supplies :  22\n",
      "pet_shop  +  pet_shop :  44\n",
      "home_construction  +  construction_tools :  22\n",
      "home_construction  +  home_construction :  28\n",
      "construction_tools  +  home_construction :  24\n",
      "construction_tools  +  construction_tools :  22\n",
      "health_beauty  +  perfumery :  104\n",
      "health_beauty  +  health_beauty :  94\n",
      "perfumery  +  perfumery :  90\n",
      "perfumery  +  health_beauty :  102\n",
      "construction_tools_lights  +  home_construction :  22\n",
      "signalling_and_security  +  signalling_and_security :  122\n",
      "signalling_and_security  +  security_and_services :  92\n",
      "security_and_services  +  signalling_and_security :  98\n",
      "security_and_services  +  security_and_services :  80\n",
      "cds_dvds_musicals  +  cds_dvds_musicals :  24\n",
      "music  +  musical_intruments :  28\n",
      "musical_intruments  +  musical_intruments :  22\n",
      "books_general_interest  +  books_technical :  24\n",
      "books_general_interest  +  stationery :  24\n",
      "books_general_interest  +  books_imported :  40\n",
      "books_technical  +  books_imported :  28\n",
      "books_technical  +  books_technical :  24\n",
      "books_technical  +  books_general_interest :  36\n",
      "books_imported  +  books_imported :  28\n",
      "books_imported  +  books_general_interest :  34\n",
      "books_imported  +  books_technical :  24\n",
      "tablets  +  computers :  30\n",
      "computers  +  electronics :  30\n",
      "stationery  +  stationery :  30\n",
      "stationery  +  books_technical :  22\n",
      "industry_commerce_and_business  +  agro_industry_commerce :  38\n",
      "industry_commerce_and_business  +  industry_commerce_and_business :  66\n",
      "industry_commerce_and_business  +  market_place :  48\n",
      "agro_industry_commerce  +  market_place :  38\n",
      "agro_industry_commerce  +  industry_commerce_and_business :  26\n",
      "agro_industry_commerce  +  agro_industry_commerce :  34\n",
      "market_place  +  industry_commerce_and_business :  46\n",
      "market_place  +  agro_industry_commerce :  40\n",
      "market_place  +  market_place :  48\n"
     ]
    }
   ],
   "source": [
    "for firstWord in table:\n",
    "    for secondWord in table[firstWord]:\n",
    "        if table[firstWord][secondWord] > 20:\n",
    "            print(firstWord, \" + \", secondWord, \": \", table[firstWord][secondWord])"
   ]
  },
  {
   "cell_type": "code",
   "execution_count": 68,
   "metadata": {},
   "outputs": [],
   "source": [
    "def getPureData(prodName):\n",
    "    \n",
    "    '''sort the bigram frequencies in descending order, \n",
    "       then return merely the corresponding product names in the same order'''\n",
    "    \n",
    "    if prodName not in table:\n",
    "        return []\n",
    "    sortedOringalList = sorted(table[prodName].items(), key=lambda x: x[1], reverse=True)\n",
    "#     print(sortedOringalList)\n",
    "    data = {}\n",
    "    for tp in sortedOringalList:\n",
    "        product = tp[0]\n",
    "        number = tp[1]\n",
    "        if number in data:\n",
    "            productList = data[number]\n",
    "            productList.append(product)\n",
    "        else:\n",
    "            productList = [product]\n",
    "        data[number] = productList\n",
    "#     print(data)\n",
    "#     print(\"==> Get pure data name:\")\n",
    "    pureData = data.values()\n",
    "#     print(pureData)\n",
    "    return list(pureData)\n",
    "def pickRecommendProds(pureData, numberOfRecommend):\n",
    "    \n",
    "    '''Pick certain number of products from the sorted product names'''\n",
    "    \n",
    "    recommendProds = []\n",
    "    for prods in pureData:\n",
    "        if len(prods) <= numberOfRecommend:\n",
    "            recommendProds += prods\n",
    "            numberOfRecommend -= len(prods)\n",
    "        else:\n",
    "            recommendProds += random.sample(prods, numberOfRecommend)\n",
    "            numberOfRecommend = 0\n",
    "\n",
    "        if numberOfRecommend == 0:\n",
    "            break\n",
    "    \n",
    "    return recommendProds\n",
    "\n",
    "# recommend products bought together with 'name'\n",
    "# name: the product to start with\n",
    "def getRecommend(name, numberOfRecommend):\n",
    "    \n",
    "    '''Recommend certain number of products bought after the given input name'''\n",
    "    \n",
    "    # numberOfRecommend = 10\n",
    "    recommendProducts = []\n",
    "    productName = name\n",
    "    index = 0\n",
    "    \n",
    "    while (numberOfRecommend):\n",
    "#         print(\"->Target: \", productName)\n",
    "#         print(\"->numberOfRecommend: \", numberOfRecommend)\n",
    "#         print(\"->Index: \", index)\n",
    "        data = getPureData(productName)\n",
    "    #     print(\"Pure data:\", data)\n",
    "        intermediate = pickRecommendProds(data, numberOfRecommend)\n",
    "        recommendProducts += intermediate\n",
    "#         print(\"Recommend: \", recommendProducts)\n",
    "#         print(\"Recommend: \", recommendProducts)\n",
    "        if len(intermediate) == 0 and index == len(recommendProducts):\n",
    "            break\n",
    "        numberOfRecommend -= len(intermediate)\n",
    "        if numberOfRecommend > 0:\n",
    "#             print(\"Still left: \", numberOfRecommend)\n",
    "            productName = recommendProducts[index]\n",
    "            index += 1\n",
    "\n",
    "#         print(\"==================\")\n",
    "\n",
    "    return recommendProducts"
   ]
  },
  {
   "cell_type": "code",
   "execution_count": 70,
   "metadata": {},
   "outputs": [
    {
     "name": "stdout",
     "output_type": "stream",
     "text": [
      "['electronics', 'consoles_games', 'tablets', 'computers_acessories', 'computers']\n"
     ]
    }
   ],
   "source": [
    "print(getRecommend(\"computers\", 5))"
   ]
  },
  {
   "cell_type": "code",
   "execution_count": null,
   "metadata": {},
   "outputs": [],
   "source": []
  }
 ],
 "metadata": {
  "kernelspec": {
   "display_name": "Python 3",
   "language": "python",
   "name": "python3"
  },
  "language_info": {
   "codemirror_mode": {
    "name": "ipython",
    "version": 3
   },
   "file_extension": ".py",
   "mimetype": "text/x-python",
   "name": "python",
   "nbconvert_exporter": "python",
   "pygments_lexer": "ipython3",
   "version": "3.7.3"
  }
 },
 "nbformat": 4,
 "nbformat_minor": 2
}
